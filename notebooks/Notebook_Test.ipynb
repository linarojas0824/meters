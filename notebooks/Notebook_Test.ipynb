{
 "cells": [
  {
   "cell_type": "code",
   "execution_count": null,
   "metadata": {},
   "outputs": [],
   "source": [
    "\n",
    "from sklearn.tree import DecisionTreeClassifier\n",
    "import numpy as np\n",
    "from sklearn.metrics import accuracy_score\n",
    "\n",
    "\n",
    "from source.data_preprocess import DataPreprocessing\n",
    "\n",
    "\n",
    "\n",
    "class ModelBuilder(DataPreprocessing):\n",
    "    def __init__(self, *args, **kwargs):\n",
    "        super(ModelBuilder, self).__init__(*args, **kwargs)\n",
    "\n",
    "    def dt(self, X_train, X_test, y_train, y_test):\n",
    "        #Create DT model\n",
    "        DT_classifier = DecisionTreeClassifier()\n",
    "\n",
    "        #Train the model\n",
    "        DT_classifier.fit(X_train, y_train)\n",
    "\n",
    "        #Test the model\n",
    "        DT_predicted = DT_classifier.predict(X_test)\n",
    "\n",
    "        error = 0\n",
    "        for i in range(len(y_test)):\n",
    "            error += np.sum(DT_predicted != y_test)\n",
    "\n",
    "        total_accuracy = 1 - error / len(y_test)\n",
    "\n",
    "        #get performance\n",
    "        self.accuracy = accuracy_score(y_test, DT_predicted)\n",
    "\n",
    "        return DT_classifier"
   ]
  },
  {
   "cell_type": "code",
   "execution_count": 3,
   "metadata": {},
   "outputs": [
    {
     "ename": "ModuleNotFoundError",
     "evalue": "No module named 'source'",
     "output_type": "error",
     "traceback": [
      "\u001b[0;31m---------------------------------------------------------------------------\u001b[0m",
      "\u001b[0;31mModuleNotFoundError\u001b[0m                       Traceback (most recent call last)",
      "Cell \u001b[0;32mIn[3], line 2\u001b[0m\n\u001b[1;32m      1\u001b[0m \u001b[39mimport\u001b[39;00m \u001b[39mnumpy\u001b[39;00m \u001b[39mas\u001b[39;00m \u001b[39mnp\u001b[39;00m\n\u001b[0;32m----> 2\u001b[0m \u001b[39mfrom\u001b[39;00m \u001b[39msource\u001b[39;00m\u001b[39m.\u001b[39;00m\u001b[39mdata_preprocess\u001b[39;00m \u001b[39mimport\u001b[39;00m DataPreprocessing\n",
      "\u001b[0;31mModuleNotFoundError\u001b[0m: No module named 'source'"
     ]
    }
   ],
   "source": [
    "import numpy as np\n",
    "from source.data_preprocess import DataPreprocessing"
   ]
  }
 ],
 "metadata": {
  "kernelspec": {
   "display_name": "Python3",
   "language": "python",
   "name": "python3"
  },
  "language_info": {
   "codemirror_mode": {
    "name": "ipython",
    "version": 3
   },
   "file_extension": ".py",
   "mimetype": "text/x-python",
   "name": "python",
   "nbconvert_exporter": "python",
   "pygments_lexer": "ipython3",
   "version": "3.9.16"
  },
  "orig_nbformat": 4,
  "vscode": {
   "interpreter": {
    "hash": "4071db63121e037f92e314dc485b683688108c658e8c3f22f2c72a63b0eb2e34"
   }
  }
 },
 "nbformat": 4,
 "nbformat_minor": 2
}
